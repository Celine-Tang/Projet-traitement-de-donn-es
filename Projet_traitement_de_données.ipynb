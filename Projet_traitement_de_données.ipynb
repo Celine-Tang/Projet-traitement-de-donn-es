{
  "nbformat": 4,
  "nbformat_minor": 0,
  "metadata": {
    "colab": {
      "name": "Projet traitement de données",
      "provenance": [],
      "authorship_tag": "ABX9TyNeit2sLZUiXlZonKKHlDFl",
      "include_colab_link": true
    },
    "kernelspec": {
      "name": "python3",
      "display_name": "Python 3"
    }
  },
  "cells": [
    {
      "cell_type": "markdown",
      "metadata": {
        "id": "view-in-github",
        "colab_type": "text"
      },
      "source": [
        "<a href=\"https://colab.research.google.com/github/Celine-Tang/Projet-traitement-de-donn-es/blob/master/Projet_traitement_de_donn%C3%A9es.ipynb\" target=\"_parent\"><img src=\"https://colab.research.google.com/assets/colab-badge.svg\" alt=\"Open In Colab\"/></a>"
      ]
    },
    {
      "cell_type": "markdown",
      "metadata": {
        "id": "sahfzdagicNi",
        "colab_type": "text"
      },
      "source": [
        "\n",
        "Les données que nous avons choisi concerne le taux de suicide de 1985 à 2016.\n",
        "Nous avons choisi de mettre en valeur différents éléments de ce fichier :\n",
        "\n",
        "- Les générations, les genres, l'âge (par tranche dâges et par genre), les années et les pays.\n"
      ]
    },
    {
      "cell_type": "code",
      "metadata": {
        "id": "bawPub2DiVCs",
        "colab_type": "code",
        "colab": {}
      },
      "source": [
        "#importation des fichiers csv\n",
        "import csv\n",
        "Tauxdesuicide = open('tauxdesuicide.csv')\n",
        "\n",
        "TDS = list(csv.DictReader(Tauxdesuicide, delimiter=\",\"))\n",
        "TDS =[dict(i) for i in TDS]"
      ],
      "execution_count": 0,
      "outputs": []
    },
    {
      "cell_type": "code",
      "metadata": {
        "id": "hx03QvlJx-Gd",
        "colab_type": "code",
        "outputId": "7f27e8ca-205b-49fc-cd6a-4e549007a089",
        "colab": {
          "base_uri": "https://localhost:8080/",
          "height": 54
        }
      },
      "source": [
        "print (TDS[1])"
      ],
      "execution_count": 280,
      "outputs": [
        {
          "output_type": "stream",
          "text": [
            "{'country': 'Albania', 'year': '1987', 'sex': 'male', 'age': '35-54 years', 'suicides_no': '16', 'population': '308000', 'suicides/100k pop': '5.19', 'country-year': 'Albania1987', 'HDI for year': '', ' gdp_for_year ($) ': '2,156,624,900', 'gdp_per_capita ($)': '796', 'generation': 'Silent'}\n"
          ],
          "name": "stdout"
        }
      ]
    },
    {
      "cell_type": "markdown",
      "metadata": {
        "id": "u3qJnUFausiH",
        "colab_type": "text"
      },
      "source": [
        "On peut voir sur la deuxième ligne du fichier la variable 'suicides_no', c'est le nombre de suicides par pays, année, sexe et tranche d'âge. Par exemple, la première ligne est:\n",
        "\n",
        "Albanie 1987 homme 35-54 ans 16. Avec suicides_no = 16. Ainsi, en Albanie (en 1987), 16 hommes, âgés de 35 à 54 ans, se sont suicidés.\n",
        "\n",
        "Afin d'avoir le nombre total de suicide nous devons donc ajouter ce nombre pour chaque ligne que nous utilisons dans le fichier."
      ]
    },
    {
      "cell_type": "code",
      "metadata": {
        "id": "oW6s-hZq1lmE",
        "colab_type": "code",
        "outputId": "84703b69-883d-4bdc-f645-65d332f23da0",
        "colab": {
          "base_uri": "https://localhost:8080/",
          "height": 34
        }
      },
      "source": [
        "def total_suicide():\n",
        "    nbds = 0\n",
        "    for i in TDS :\n",
        "        if i['sex'] == 'male' or 'female':\n",
        "            nbds = nbds + int(i['suicides_no'])\n",
        "    return nbds\n",
        "total_suicide()"
      ],
      "execution_count": 281,
      "outputs": [
        {
          "output_type": "execute_result",
          "data": {
            "text/plain": [
              "6748420"
            ]
          },
          "metadata": {
            "tags": []
          },
          "execution_count": 281
        }
      ]
    },
    {
      "cell_type": "code",
      "metadata": {
        "id": "CNJQ3dkSywOL",
        "colab_type": "code",
        "outputId": "e3d655be-47f7-4388-d4e6-740926f16112",
        "colab": {
          "base_uri": "https://localhost:8080/",
          "height": 119
        }
      },
      "source": [
        "def dif_generation():\n",
        "    generation = []\n",
        "    a = ([i['generation'] for i in TDS])\n",
        "    for i in a:\n",
        "        if i not in generation :\n",
        "            generation.append(i)\n",
        "    return(generation)\n",
        "dif_generation()"
      ],
      "execution_count": 282,
      "outputs": [
        {
          "output_type": "execute_result",
          "data": {
            "text/plain": [
              "['Generation X',\n",
              " 'Silent',\n",
              " 'G.I. Generation',\n",
              " 'Boomers',\n",
              " 'Millenials',\n",
              " 'Generation Z']"
            ]
          },
          "metadata": {
            "tags": []
          },
          "execution_count": 282
        }
      ]
    },
    {
      "cell_type": "code",
      "metadata": {
        "id": "YSQrdtt5yLYl",
        "colab_type": "code",
        "colab": {}
      },
      "source": [
        "# Fonction qui prend en argument une des générations et renvoie un doublet [nom de la génération,le nombre de suicides]\n",
        "def g(T,A) :\n",
        "    E = 0\n",
        "    for i in T :\n",
        "        if i['generation'] == A :\n",
        "            E = E + int(i['suicides_no'])\n",
        "    doublet  = [A,E]\n",
        "    return doublet"
      ],
      "execution_count": 0,
      "outputs": []
    },
    {
      "cell_type": "code",
      "metadata": {
        "id": "0Be5dhYCw0G0",
        "colab_type": "code",
        "outputId": "c1f3a742-c7ed-485c-fe8e-3ed557617ac2",
        "colab": {
          "base_uri": "https://localhost:8080/",
          "height": 34
        }
      },
      "source": [
        "C = [g(TDS,'Generation X'),g(TDS,'Silent'),g(TDS,'G.I. Generation'),g(TDS,'Boomers'),g(TDS,'Millenials'),g(TDS,'Generation Z')]\n",
        "print(C)"
      ],
      "execution_count": 284,
      "outputs": [
        {
          "output_type": "stream",
          "text": [
            "[['Generation X', 1532804], ['Silent', 1781744], ['G.I. Generation', 510009], ['Boomers', 2284498], ['Millenials', 623459], ['Generation Z', 15906]]\n"
          ],
          "name": "stdout"
        }
      ]
    },
    {
      "cell_type": "code",
      "metadata": {
        "id": "RE4a3FjCwz2Y",
        "colab_type": "code",
        "outputId": "1eb0c0dc-a2a8-4238-d68a-e815f2959591",
        "colab": {
          "base_uri": "https://localhost:8080/",
          "height": 596
        }
      },
      "source": [
        "%matplotlib inline\n",
        "import matplotlib.pyplot as plt\n",
        "plt.rcParams['figure.figsize'] = [12, 8]\n",
        "barWidth = 0.9\n",
        "bars1 = [3, 3, 1]\n",
        "\n",
        "L = C\n",
        "r1,r2 = [],[]\n",
        "\n",
        "for i in range(20) :\n",
        "    if i<len(L) :\n",
        "        r1.append(L[i][0])\n",
        "        r2.append(float(L[i][1]))\n",
        "\n",
        "plt.xticks(rotation=90)\n",
        "plt.title('Générations')\n",
        "plt.bar(r1, r2)\n",
        "plt.xlabel('Nom des générations')\n",
        "plt.ylabel('Nombres de suicides(en M)')"
      ],
      "execution_count": 285,
      "outputs": [
        {
          "output_type": "execute_result",
          "data": {
            "text/plain": [
              "Text(0, 0.5, 'Nombres de suicides(en M)')"
            ]
          },
          "metadata": {
            "tags": []
          },
          "execution_count": 285
        },
        {
          "output_type": "display_data",
          "data": {
            "image/png": "[encoded data removed]",
            "text/plain": [
              "<Figure size 864x576 with 1 Axes>"
            ]
          },
          "metadata": {
            "tags": [],
            "needs_background": "light"
          }
        }
      ]
    },
    {
      "cell_type": "markdown",
      "metadata": {
        "id": "y_MBWvJlx_yZ",
        "colab_type": "text"
      },
      "source": [
        "Nous avons ici les différentes valeurs de génération indiquant l'année de naissance.\n",
        "En gros, la génération signifie:\n",
        "\n",
        "GI Generation - né entre 1901 - 1927\n",
        "\n",
        "Silencieux - né entre 1925 - 1942\n",
        "\n",
        "Boomers - nés entre 1946 - 1964\n",
        "\n",
        "Génération X - née entre 1960 - 1980\n",
        "\n",
        "Génération Y - né entre 1980 - début 2000\n",
        "\n",
        "Génération Z - née entre le milieu des années 1990 et les années 2000\n",
        "\n",
        "On remarque un pic assez important (Boomers) qui n'a pas vraiment de sens, car la taille de la population d'une génération changera énormément d'année en année."
      ]
    },
    {
      "cell_type": "code",
      "metadata": {
        "colab_type": "code",
        "outputId": "412ac173-c173-418e-e711-96a5a41b07a6",
        "id": "E62IWwoHbj9s",
        "colab": {
          "base_uri": "https://localhost:8080/",
          "height": 34
        }
      },
      "source": [
        "def homme():\n",
        "    a=0\n",
        "    for i in TDS:\n",
        "        if i ['sex'] ==  'male':\n",
        "            a = a+ int(i['suicides_no'])\n",
        "    return a\n",
        "homme()"
      ],
      "execution_count": 286,
      "outputs": [
        {
          "output_type": "execute_result",
          "data": {
            "text/plain": [
              "5188910"
            ]
          },
          "metadata": {
            "tags": []
          },
          "execution_count": 286
        }
      ]
    },
    {
      "cell_type": "code",
      "metadata": {
        "id": "ZNUnymw-acow",
        "colab_type": "code",
        "outputId": "18e5c465-1730-4bdd-e68e-8941a0607e6f",
        "colab": {
          "base_uri": "https://localhost:8080/",
          "height": 34
        }
      },
      "source": [
        "def femme():\n",
        "    b=0\n",
        "    for i in TDS:\n",
        "        if i ['sex'] ==  'female':\n",
        "            b = b + int(i['suicides_no'])\n",
        "    return b\n",
        "femme()"
      ],
      "execution_count": 287,
      "outputs": [
        {
          "output_type": "execute_result",
          "data": {
            "text/plain": [
              "1559510"
            ]
          },
          "metadata": {
            "tags": []
          },
          "execution_count": 287
        }
      ]
    },
    {
      "cell_type": "code",
      "metadata": {
        "scrolled": true,
        "id": "UqJ6QSFnaco2",
        "colab_type": "code",
        "outputId": "579a9c3d-398c-4d26-b9b6-bc1c79625085",
        "colab": {
          "base_uri": "https://localhost:8080/",
          "height": 536
        }
      },
      "source": [
        "import matplotlib.pyplot as plt\n",
        "\n",
        "labels = 'Homme', 'Femme'\n",
        "sizes = [homme(), femme()]\n",
        "explode = (0, 0.1)\n",
        "\n",
        "fig1, ax1 = plt.subplots()\n",
        "ax1.pie(sizes, explode=explode, labels=labels, autopct='%1.1f%%',shadow=True, startangle=90)\n",
        "ax1.axis(aspect=\"equal\")\n",
        "\n",
        "plt.title('Nombre de suicides selon le sexe')\n",
        "\n",
        "plt.show()"
      ],
      "execution_count": 288,
      "outputs": [
        {
          "output_type": "stream",
          "text": [
            "/usr/local/lib/python3.6/dist-packages/ipykernel_launcher.py:9: MatplotlibDeprecationWarning: Passing unsupported keyword arguments to axis() will raise a TypeError in 3.3.\n",
            "  if __name__ == '__main__':\n"
          ],
          "name": "stderr"
        },
        {
          "output_type": "display_data",
          "data": {
            "image/png": "[encoded data removed]",
            "text/plain": [
              "<Figure size 864x576 with 1 Axes>"
            ]
          },
          "metadata": {
            "tags": []
          }
        }
      ]
    },
    {
      "cell_type": "markdown",
      "metadata": {
        "id": "irElbjFFzie8",
        "colab_type": "text"
      },
      "source": [
        "Les hommes sont beaucoup plus nombreux à se suicider que les femmes : ils représentent trois quarts de ce type de décès. Cette surmortalité masculine est constatée.\n",
        "\n",
        "Sur 6 748 420 de personnes on compte donc 5189535 hommes et 1558885 femmes."
      ]
    },
    {
      "cell_type": "code",
      "metadata": {
        "id": "A6zsJO_E5PPX",
        "colab_type": "code",
        "outputId": "32484790-1a78-47f0-a6ee-ef923689154c",
        "colab": {
          "base_uri": "https://localhost:8080/",
          "height": 542
        }
      },
      "source": [
        "import matplotlib.pyplot as plt\n",
        "import numpy as np\n",
        "import pylab\n",
        "import csv\n",
        "fichier = open('tauxdesuicide.csv')\n",
        "table = list(csv.DictReader(fichier))\n",
        "TDS = [dict(i) for i in table]\n",
        "\n",
        "\n",
        "def dizaine():\n",
        "    a = 0\n",
        "    for i in TDS : \n",
        "        if i['age'] == '5-14 years':\n",
        "            a = a + int(i['suicides_no'])\n",
        "    return a\n",
        "\n",
        "\n",
        "def vingtaine():\n",
        "    b = 0\n",
        "    for i in TDS : \n",
        "        if i['age'] == '15-24 years':\n",
        "            b = b + int(i['suicides_no'])\n",
        "    return b\n",
        "\n",
        "\n",
        "def trentaine():\n",
        "    c = 0\n",
        "    for i in TDS : \n",
        "        if i['age'] == '25-34 years':\n",
        "            c = c + int(i['suicides_no'])\n",
        "    return c\n",
        "\n",
        "\n",
        "def cinquantaine():\n",
        "    d = 0\n",
        "    for i in TDS : \n",
        "        if i['age'] == '35-54 years':\n",
        "            d = d + int(i['suicides_no'])\n",
        "    return d\n",
        "\n",
        "\n",
        "def soixante_dix():\n",
        "    e = 0\n",
        "    for i in TDS : \n",
        "        if i['age'] == '55-74 years':\n",
        "            e = e + int(i['suicides_no'])\n",
        "    return e\n",
        "\n",
        "\n",
        "def octo():\n",
        "    f = 0\n",
        "    for i in TDS : \n",
        "        if i['age'] == '75+ years':\n",
        "            f = f + int(i['suicides_no'])\n",
        "    return f\n",
        "\n",
        "\n",
        "fig = plt.figure()\n",
        "\n",
        "x = [1,2,3,4,5,6]\n",
        "height = [dizaine(), vingtaine(), trentaine(), cinquantaine(), soixante_dix(), octo()]\n",
        "width = 0.5\n",
        "BarName = ['5-14 ans','15-24 ans','25-34 ans','35-54 ans','55-74 ans','+75 ans']\n",
        "\n",
        "plt.bar(x, height, width, color='blue' )\n",
        "\n",
        "plt.xlim(0,7)\n",
        "plt.ylim(0,2500000)\n",
        "\n",
        "plt.xlabel('Tranches d ages')\n",
        "plt.ylabel('Nombre de suicides')\n",
        "plt.title('Nombre de suicides selon la tranche d ages ')\n",
        "\n",
        "pylab.xticks(x, BarName, rotation=40)\n",
        "\n",
        "plt.show()"
      ],
      "execution_count": 289,
      "outputs": [
        {
          "output_type": "display_data",
          "data": {
            "image/png": "[encoded data removed]",
            "text/plain": [
              "<Figure size 864x576 with 1 Axes>"
            ]
          },
          "metadata": {
            "tags": [],
            "needs_background": "light"
          }
        }
      ]
    },
    {
      "cell_type": "markdown",
      "metadata": {
        "id": "hE8vvZWA10Xh",
        "colab_type": "text"
      },
      "source": [
        "Deux catégories d’âge présentent une surmortalité : les 35-54 ans et les 55-74 ans. \n",
        "On peut supposer que la population professionnelle est la plus à risque"
      ]
    },
    {
      "cell_type": "code",
      "metadata": {
        "id": "GfSAZ_sowy3s",
        "colab_type": "code",
        "outputId": "1cea519d-b163-4901-873d-763acd23e6ab",
        "colab": {
          "base_uri": "https://localhost:8080/",
          "height": 585
        }
      },
      "source": [
        "import numpy as np\n",
        "import matplotlib.pyplot as plt\n",
        "import csv\n",
        "\n",
        "fichier = open('tauxdesuicide.csv')\n",
        "table = list(csv.DictReader(fichier))\n",
        "TDS = [dict(i) for i in table]\n",
        "\n",
        "\n",
        "def femme_dizaine():\n",
        "    a = 0\n",
        "    for i in TDS :\n",
        "        if i['sex'] == 'female' :\n",
        "            if i['age'] == '5-14 years' :\n",
        "                a = a + int(i['suicides_no'])\n",
        "    return a\n",
        "\n",
        "\n",
        "def homme_dizaine():\n",
        "    b = 0\n",
        "    for i in TDS :\n",
        "        if i['sex'] == 'male' :\n",
        "            if i['age'] == '5-14 years' :\n",
        "                b = b + int(i['suicides_no'])\n",
        "    return b\n",
        "\n",
        "\n",
        "def femme_vingtaine():\n",
        "    c = 0\n",
        "    for i in TDS :\n",
        "        if i['sex'] == 'female' :\n",
        "            if i['age'] == '15-24 years' :\n",
        "                c = c + int(i['suicides_no'])\n",
        "    return c\n",
        "\n",
        "\n",
        "def homme_vingtaine():\n",
        "    d = 0\n",
        "    for i in TDS :\n",
        "        if i['sex'] == 'male' :\n",
        "            if i['age'] == '15-24 years' :\n",
        "                d = d + int(i['suicides_no'])\n",
        "    return d\n",
        "\n",
        "\n",
        "def femme_trentaine():\n",
        "    e = 0\n",
        "    for i in TDS :\n",
        "        if i['sex'] == 'female' :\n",
        "            if i['age'] == '25-34 years' :\n",
        "                e = e + int(i['suicides_no'])\n",
        "    return e\n",
        "\n",
        "\n",
        "def homme_trentaine():\n",
        "    f = 0\n",
        "    for i in TDS :\n",
        "        if i['sex'] == 'male' :\n",
        "            if i['age'] == '25-34 years' :\n",
        "                f = f + int(i['suicides_no'])\n",
        "    return f\n",
        "\n",
        "\n",
        "def femme_cinquantaine():\n",
        "    g = 0\n",
        "    for i in TDS :\n",
        "        if i['sex'] == 'female' :\n",
        "            if i['age'] == '35-54 years' :\n",
        "                g = g + int(i['suicides_no'])\n",
        "    return g\n",
        "\n",
        "\n",
        "def homme_cinquantaine():\n",
        "    h = 0\n",
        "    for i in TDS :\n",
        "        if i['sex'] == 'male' :\n",
        "            if i['age'] == '35-54 years' :\n",
        "                h = h + int(i['suicides_no'])\n",
        "    return h\n",
        "\n",
        "\n",
        "def femme_soixante_dix():\n",
        "    j = 0\n",
        "    for i in TDS :\n",
        "        if i['sex'] == 'female' :\n",
        "            if i['age'] == '55-74 years' :\n",
        "                j = j + int(i['suicides_no'])\n",
        "    return j\n",
        "\n",
        "\n",
        "def homme_soixante_dix():\n",
        "    k = 0\n",
        "    for i in TDS :\n",
        "        if i['sex'] == 'male' :\n",
        "            if i['age'] == '55-74 years' :\n",
        "                k = k + int(i['suicides_no'])\n",
        "    return k\n",
        "\n",
        "\n",
        "def femme_octo():\n",
        "    l = 0\n",
        "    for i in TDS :\n",
        "        if i['sex'] == 'female' :\n",
        "            if i['age'] == '75+ years' :\n",
        "                l = l + int(i['suicides_no'])\n",
        "    return l\n",
        "\n",
        "\n",
        "def homme_octo():\n",
        "    m = 0\n",
        "    for i in TDS :\n",
        "        if i['sex'] == 'male' :\n",
        "            if i['age'] == '75+ years' :\n",
        "                m = m + int(i['suicides_no'])\n",
        "    return m\n",
        "\n",
        "\n",
        "n_groups = 6\n",
        "\n",
        "means_men = (homme_dizaine(), homme_vingtaine(), homme_trentaine(), homme_cinquantaine(), homme_soixante_dix(), homme_octo())\n",
        "std_men = (2, 3, 4, 1, 2, 4)\n",
        "\n",
        "means_women = (femme_dizaine(), femme_vingtaine(), femme_trentaine(), femme_cinquantaine(), femme_soixante_dix(), femme_octo())\n",
        "std_women = (3, 5, 2, 3, 3, 2)\n",
        "\n",
        "fig, ax = plt.subplots()\n",
        "\n",
        "index = np.arange(n_groups)\n",
        "bar_width = 0.35\n",
        "\n",
        "opacity = 0.4\n",
        "error_config = {'ecolor': '0.3'}\n",
        "\n",
        "rects1 = plt.bar(index, means_men, bar_width,\n",
        "                 alpha=opacity,\n",
        "                 color='b',\n",
        "                 yerr=std_men,\n",
        "                 error_kw=error_config,\n",
        "                 label='Homme')\n",
        "\n",
        "rects2 = plt.bar(index + bar_width, means_women, bar_width,\n",
        "                 alpha=opacity,\n",
        "                 color='r',\n",
        "                 yerr=std_women,\n",
        "                 error_kw=error_config,\n",
        "                 label='Femme')\n",
        "\n",
        "plt.xlabel('Tranche d ages')\n",
        "plt.ylabel('Nombre de suicides')\n",
        "plt.title('Nombre de suicides selon la tranche d ages et le sexe')\n",
        "plt.xticks(index + bar_width / 2, ('5-14 ans', '15-24 ans', '25-34 ans', '35-54 ans', '55-74 ans', '+75 ans'))\n",
        "plt.legend()\n",
        "\n",
        "plt.tight_layout()\n",
        "plt.show()"
      ],
      "execution_count": 290,
      "outputs": [
        {
          "output_type": "display_data",
          "data": {
            "image/png": "[encoded data removed]",
            "text/plain": [
              "<Figure size 864x576 with 1 Axes>"
            ]
          },
          "metadata": {
            "tags": [],
            "needs_background": "light"
          }
        }
      ]
    },
    {
      "cell_type": "markdown",
      "metadata": {
        "id": "g9AIVpGZ2EHM",
        "colab_type": "text"
      },
      "source": [
        "Des différences notables apparaissent encore entre hommes et femmes."
      ]
    },
    {
      "cell_type": "code",
      "metadata": {
        "id": "O6DSYPIwCy4p",
        "colab_type": "code",
        "colab": {}
      },
      "source": [
        "def dif_annee():\n",
        "    annee = []\n",
        "    a = ([i['year'] for i in TDS])\n",
        "    for i in a:\n",
        "        if i not in annee :\n",
        "            annee.append(i)\n",
        "    return(annee)"
      ],
      "execution_count": 0,
      "outputs": []
    },
    {
      "cell_type": "code",
      "metadata": {
        "id": "PfsP-ygRClN7",
        "colab_type": "code",
        "colab": {}
      },
      "source": [
        "def A(T,F) :\n",
        "    E = 0\n",
        "    for i in T :\n",
        "        if i['year'] == F :\n",
        "            E = E + int(i['suicides_no'])\n",
        "    return E"
      ],
      "execution_count": 0,
      "outputs": []
    },
    {
      "cell_type": "code",
      "metadata": {
        "id": "Hnkrag49Cpuu",
        "colab_type": "code",
        "colab": {}
      },
      "source": [
        "def graphe_annee():\n",
        "    C = dif_annee()[:]\n",
        "    D = []\n",
        "    i = 0\n",
        "    F = []\n",
        "    j = 0\n",
        "    for i in range(31):\n",
        "        if C[i] <= C[i+1]:\n",
        "            F.append([C[i],A(TDS,dif_annee()[j])])\n",
        "            j = j + 1\n",
        "    F.append([C[-1],A(TDS,dif_annee()[-1])])\n",
        "    return F"
      ],
      "execution_count": 0,
      "outputs": []
    },
    {
      "cell_type": "code",
      "metadata": {
        "id": "mWFpjR_gCqHi",
        "colab_type": "code",
        "outputId": "9393439a-4500-4bf5-e5ed-98f36a0e4e61",
        "colab": {
          "base_uri": "https://localhost:8080/",
          "height": 545
        }
      },
      "source": [
        "%matplotlib inline\n",
        "import matplotlib.pyplot as plt\n",
        "plt.rcParams['figure.figsize'] = [12, 8]\n",
        "barWidth = 0.9\n",
        "bars1 = [3, 3, 1]\n",
        "\n",
        "L = graphe_annee()\n",
        "r1,r2 = [],[]\n",
        "\n",
        "for i in range(30) :\n",
        "    if i<len(L) :\n",
        "        r1.append(L[i][0])\n",
        "        r2.append(float(L[i][1]))\n",
        "\n",
        "plt.xticks(rotation=90)\n",
        "plt.bar(r1, r2)\n",
        "plt.xlabel('année')\n",
        "plt.ylabel('nombre de suicides')\n",
        "plt.title('nombre de suicides selon les années')"
      ],
      "execution_count": 294,
      "outputs": [
        {
          "output_type": "execute_result",
          "data": {
            "text/plain": [
              "Text(0.5, 1.0, 'nombre de suicides selon les années')"
            ]
          },
          "metadata": {
            "tags": []
          },
          "execution_count": 294
        },
        {
          "output_type": "display_data",
          "data": {
            "image/png": "[encoded data removed]",
            "text/plain": [
              "<Figure size 864x576 with 1 Axes>"
            ]
          },
          "metadata": {
            "tags": [],
            "needs_background": "light"
          }
        }
      ]
    },
    {
      "cell_type": "markdown",
      "metadata": {
        "id": "VW_qPYpmxB1L",
        "colab_type": "text"
      },
      "source": [
        "On peut voir une très forte baisse du taux de suicides en 2016\n",
        "Mais cette différence est expliquée :\n",
        "- Il y a un nombre différent de pays impliqués chaque année. Par exemple, le pays X est apparu en 2014 mais pourrait ne pas apparaître en 2016.\n",
        "\n",
        "Le nombre de pays est le plus bas car l'année 2016 est la dernière année où les recherches ont été faites."
      ]
    },
    {
      "cell_type": "code",
      "metadata": {
        "id": "JlFfzTGrwzkE",
        "colab_type": "code",
        "colab": {}
      },
      "source": [
        "def dif_pays():\n",
        "    P = []\n",
        "    a = ([i['country'] for i in TDS])\n",
        "    for i in a:\n",
        "        if i not in P :\n",
        "            P.append(i)\n",
        "    return(P)"
      ],
      "execution_count": 0,
      "outputs": []
    },
    {
      "cell_type": "code",
      "metadata": {
        "id": "woCVhe-M2RrK",
        "colab_type": "code",
        "outputId": "b8149ef9-564a-4cb6-a55f-211f8137e72f",
        "colab": {
          "base_uri": "https://localhost:8080/",
          "height": 54
        }
      },
      "source": [
        "C = dif_pays()\n",
        "print(C)"
      ],
      "execution_count": 296,
      "outputs": [
        {
          "output_type": "stream",
          "text": [
            "['Albania', 'Antigua and Barbuda', 'Argentina', 'Armenia', 'Aruba', 'Australia', 'Austria', 'Azerbaijan', 'Bahamas', 'Bahrain', 'Barbados', 'Belarus', 'Belgium', 'Belize', 'Bosnia and Herzegovina', 'Brazil', 'Bulgaria', 'Cabo Verde', 'Canada', 'Chile', 'Colombia', 'Costa Rica', 'Croatia', 'Cuba', 'Cyprus', 'Czech Republic', 'Denmark', 'Dominica', 'Ecuador', 'El Salvador', 'Estonia', 'Fiji', 'Finland', 'France', 'Georgia', 'Germany', 'Greece', 'Grenada', 'Guatemala', 'Guyana', 'Hungary', 'Iceland', 'Ireland', 'Israel', 'Italy', 'Jamaica', 'Japan', 'Kazakhstan', 'Kiribati', 'Kuwait', 'Kyrgyzstan', 'Latvia', 'Lithuania', 'Luxembourg', 'Macau', 'Maldives', 'Malta', 'Mauritius', 'Mexico', 'Mongolia', 'Montenegro', 'Netherlands', 'New Zealand', 'Nicaragua', 'Norway', 'Oman', 'Panama', 'Paraguay', 'Philippines', 'Poland', 'Portugal', 'Puerto Rico', 'Qatar', 'Republic of Korea', 'Romania', 'Russian Federation', 'Saint Kitts and Nevis', 'Saint Lucia', 'Saint Vincent and Grenadines', 'San Marino', 'Serbia', 'Seychelles', 'Singapore', 'Slovakia', 'Slovenia', 'South Africa', 'Spain', 'Sri Lanka', 'Suriname', 'Sweden', 'Switzerland', 'Thailand', 'Trinidad and Tobago', 'Turkey', 'Turkmenistan', 'Ukraine', 'United Arab Emirates', 'United Kingdom', 'United States', 'Uruguay', 'Uzbekistan']\n"
          ],
          "name": "stdout"
        }
      ]
    },
    {
      "cell_type": "code",
      "metadata": {
        "id": "oQgKC_S-xUIy",
        "colab_type": "code",
        "colab": {}
      },
      "source": [
        "# Fonction qui prend en argument une liste et une des générations et renvoie le nombre de suicides\n",
        "def h(T,F) :\n",
        "    E = 0\n",
        "    for i in T :\n",
        "        if i['country'] == F :\n",
        "            E = E + int(i['suicides_no'])\n",
        "    return E"
      ],
      "execution_count": 0,
      "outputs": []
    },
    {
      "cell_type": "code",
      "metadata": {
        "id": "41cxkffsw9wo",
        "colab_type": "code",
        "colab": {}
      },
      "source": [
        "def graphe():\n",
        "    C = dif_pays()[:]\n",
        "    D = []\n",
        "    i = 0\n",
        "    F = []\n",
        "    j = 0\n",
        "    for i in range(100):\n",
        "        if C[i] != C[i+1]:\n",
        "            F.append([C[i],h(TDS,dif_pays()[j])])\n",
        "            j = j + 1\n",
        "    F.append([C[-1],h(TDS,dif_pays()[-1])])\n",
        "    return F"
      ],
      "execution_count": 0,
      "outputs": []
    },
    {
      "cell_type": "code",
      "metadata": {
        "id": "s4UCXWvXw9_l",
        "colab_type": "code",
        "outputId": "0800c484-e5cd-4df4-fea5-d8ad7be39a1d",
        "colab": {
          "base_uri": "https://localhost:8080/",
          "height": 669
        }
      },
      "source": [
        "%matplotlib inline\n",
        "import matplotlib.pyplot as plt\n",
        "plt.rcParams['figure.figsize'] = [12, 8]\n",
        "barWidth = 10\n",
        "bars1 = [3, 3, 1]\n",
        "\n",
        "L = graphe()\n",
        "r1,r2 = [],[]\n",
        "\n",
        "for i in range(100) :\n",
        "    if i<len(L) :\n",
        "        r1.append(L[i][0])\n",
        "        r2.append(float(L[i][1]))\n",
        "\n",
        "plt.xticks(rotation=90)\n",
        "plt.title('Taux de suicide selon le pays')\n",
        "plt.bar(r1, r2)\n",
        "plt.xlabel('Pays')\n",
        "plt.ylabel('Nombre de suicides')"
      ],
      "execution_count": 299,
      "outputs": [
        {
          "output_type": "execute_result",
          "data": {
            "text/plain": [
              "Text(0, 0.5, 'Nombre de suicides')"
            ]
          },
          "metadata": {
            "tags": []
          },
          "execution_count": 299
        },
        {
          "output_type": "display_data",
          "data": {
            "image/png": "[encoded data removed]",
            "text/plain": [
              "<Figure size 864x576 with 1 Axes>"
            ]
          },
          "metadata": {
            "tags": [],
            "needs_background": "light"
          }
        }
      ]
    },
    {
      "cell_type": "markdown",
      "metadata": {
        "id": "yO-c3j0T41Om",
        "colab_type": "text"
      },
      "source": [
        "On remarque beaucoup de suicides en Amérique, au sud notamment le Brésil, l’Argentine et le Chili et au nord avec les Etats Unis, et après on retrouve l’Europe avec la Russie, la France et la Germany et en Asie au Japon mais ausi la Corée."
      ]
    }
  ]
}